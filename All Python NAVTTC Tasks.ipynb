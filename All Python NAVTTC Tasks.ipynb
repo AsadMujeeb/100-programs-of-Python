{
 "cells": [
  {
   "cell_type": "code",
   "execution_count": 1,
   "id": "cfb81420-8884-4222-a301-3e1d999cc2f3",
   "metadata": {},
   "outputs": [
    {
     "name": "stdout",
     "output_type": "stream",
     "text": [
      "Hello World\n"
     ]
    }
   ],
   "source": [
    "print(\"Hello World\")"
   ]
  },
  {
   "cell_type": "markdown",
   "id": "6ae6c97e-0e7b-4f85-bb44-06130504f658",
   "metadata": {},
   "source": [
    "# Python Comments"
   ]
  },
  {
   "cell_type": "code",
   "execution_count": 4,
   "id": "e3a5a00a-71eb-4cc7-8982-9da4976d675c",
   "metadata": {},
   "outputs": [
    {
     "name": "stdin",
     "output_type": "stream",
     "text": [
      "Enter your name :  Asad Mujeeb\n"
     ]
    },
    {
     "name": "stdout",
     "output_type": "stream",
     "text": [
      "Asad Mujeeb\n"
     ]
    }
   ],
   "source": [
    "# Program to take the user's name\n",
    "# single line comments\n",
    "\n",
    "name = input('Enter your name : ')\n",
    "print(name) "
   ]
  },
  {
   "cell_type": "code",
   "execution_count": 5,
   "id": "6dceeaca-6818-4477-92fa-1428b6db9c20",
   "metadata": {},
   "outputs": [
    {
     "name": "stdin",
     "output_type": "stream",
     "text": [
      "Enter your department :  NAVTTC\n"
     ]
    },
    {
     "name": "stdout",
     "output_type": "stream",
     "text": [
      "NAVTTC\n"
     ]
    }
   ],
   "source": [
    "'''\n",
    "Multi-line comments\n",
    "'''\n",
    "\n",
    "name = input(\"Enter your department : \")\n",
    "print(name)"
   ]
  },
  {
   "cell_type": "markdown",
   "id": "c764f10f-eb0a-4ddf-9ee2-9a766179c776",
   "metadata": {},
   "source": [
    "# Python Variables"
   ]
  },
  {
   "cell_type": "code",
   "execution_count": 6,
   "id": "5c45ae0b-6e0f-4c1c-8fc1-1dff729a0c62",
   "metadata": {},
   "outputs": [],
   "source": [
    "number = 10"
   ]
  },
  {
   "cell_type": "code",
   "execution_count": 8,
   "id": "5d2eb25a-b59f-40f4-a779-8b06c1fc3b88",
   "metadata": {},
   "outputs": [
    {
     "name": "stdout",
     "output_type": "stream",
     "text": [
      "navttc.org\n"
     ]
    }
   ],
   "source": [
    "# assign value to site_name variable\n",
    "site_name = 'navttc.org'\n",
    "\n",
    "print(site_name)\n",
    "\n",
    "# Output: navttc\n"
   ]
  },
  {
   "cell_type": "code",
   "execution_count": 9,
   "id": "8522b82b-b924-4ff4-b393-3e5929994d32",
   "metadata": {},
   "outputs": [
    {
     "name": "stdout",
     "output_type": "stream",
     "text": [
      "navttc.org\n",
      "NHIIT\n"
     ]
    }
   ],
   "source": [
    "site_name = 'navttc.org'\n",
    "print(site_name)\n",
    "\n",
    "# assigning a new value to site_name\n",
    "site_name = 'NHIIT'\n",
    "\n",
    "print(site_name)"
   ]
  },
  {
   "cell_type": "code",
   "execution_count": 10,
   "id": "d304acdd-80bb-4be4-9307-6ddb0b9813ce",
   "metadata": {},
   "outputs": [
    {
     "name": "stdout",
     "output_type": "stream",
     "text": [
      "5\n",
      "3.2\n",
      "Hello\n"
     ]
    }
   ],
   "source": [
    "a, b, c = 5, 3.2, 'Hello'\n",
    "\n",
    "print(a)  # prints 5\n",
    "print(b)  # prints 3.2\n",
    "print(c)  # prints Hello "
   ]
  },
  {
   "cell_type": "code",
   "execution_count": 12,
   "id": "e1b34d36-c286-4fa1-a62d-5fc82d71919e",
   "metadata": {},
   "outputs": [
    {
     "name": "stdout",
     "output_type": "stream",
     "text": [
      "NAVTTC.org\n",
      "NAVTTC.org\n"
     ]
    }
   ],
   "source": [
    "site1 = site2  = 'NAVTTC.org'\n",
    "\n",
    "print(site1)  # prints navttc.org\n",
    "print(site2)  # prints navttc"
   ]
  },
  {
   "cell_type": "markdown",
   "id": "2c3b12e4-fa57-4749-9a94-35465f9328da",
   "metadata": {},
   "source": [
    "# Data Types"
   ]
  },
  {
   "cell_type": "code",
   "execution_count": 13,
   "id": "939e99d8-e910-42d5-bf97-6fb90b76825e",
   "metadata": {},
   "outputs": [
    {
     "name": "stdout",
     "output_type": "stream",
     "text": [
      "5 is of type <class 'int'>\n",
      "2.0 is of type <class 'float'>\n",
      "(1+2j) is of type <class 'complex'>\n"
     ]
    }
   ],
   "source": [
    "num1 = 5\n",
    "print(num1, 'is of type', type(num1))\n",
    "\n",
    "num2 = 2.0\n",
    "print(num2, 'is of type', type(num2))\n",
    "\n",
    "num3 = 1+2j\n",
    "print(num3, 'is of type', type(num3))"
   ]
  },
  {
   "cell_type": "code",
   "execution_count": 14,
   "id": "29c2c7d3-8b55-487b-b22d-3fb447e71ae6",
   "metadata": {},
   "outputs": [
    {
     "name": "stdout",
     "output_type": "stream",
     "text": [
      "{112, 114, 115, 116, 118}\n",
      "<class 'set'>\n"
     ]
    }
   ],
   "source": [
    "# create a set named student_id\n",
    "student_id = {112, 114, 116, 118, 115}\n",
    "\n",
    "# display student_id elements\n",
    "print(student_id)\n",
    "\n",
    "# display type of student_id\n",
    "print(type(student_id))"
   ]
  },
  {
   "cell_type": "code",
   "execution_count": 15,
   "id": "62c8f94f-9367-4bd9-a4f3-cb12683915c6",
   "metadata": {},
   "outputs": [
    {
     "name": "stdout",
     "output_type": "stream",
     "text": [
      "{'Nepal': 'Kathmandu', 'Italy': 'Rome', 'England': 'London'}\n"
     ]
    }
   ],
   "source": [
    "# create a dictionary named capital_city\n",
    "capital_city = {'Nepal': 'Kathmandu', 'Italy': 'Rome', 'England': 'London'}\n",
    "\n",
    "print(capital_city)"
   ]
  },
  {
   "cell_type": "markdown",
   "id": "55b4fc12-09a0-46a3-9464-b1b38c65ccaf",
   "metadata": {},
   "source": [
    "# Python Type Conversion\n"
   ]
  },
  {
   "cell_type": "code",
   "execution_count": 16,
   "id": "7e5d43b5-83a2-4083-8a12-47c6404532ab",
   "metadata": {},
   "outputs": [
    {
     "name": "stdout",
     "output_type": "stream",
     "text": [
      "Value: 124.23\n",
      "Data Type: <class 'float'>\n"
     ]
    }
   ],
   "source": [
    "integer_number = 123\n",
    "float_number = 1.23\n",
    "\n",
    "new_number = integer_number + float_number\n",
    "\n",
    "# display new value and resulting data type\n",
    "print(\"Value:\",new_number)\n",
    "print(\"Data Type:\",type(new_number))"
   ]
  },
  {
   "cell_type": "code",
   "execution_count": 17,
   "id": "8dc16510-94dc-4de1-bd7b-659f05741687",
   "metadata": {},
   "outputs": [
    {
     "name": "stdout",
     "output_type": "stream",
     "text": [
      "Data type of num_string before Type Casting: <class 'str'>\n",
      "Data type of num_string after Type Casting: <class 'int'>\n",
      "Sum: 35\n",
      "Data type of num_sum: <class 'int'>\n"
     ]
    }
   ],
   "source": [
    "num_string = '12'\n",
    "num_integer = 23\n",
    "\n",
    "print(\"Data type of num_string before Type Casting:\",type(num_string))\n",
    "\n",
    "# explicit type conversion\n",
    "num_string = int(num_string)\n",
    "\n",
    "print(\"Data type of num_string after Type Casting:\",type(num_string))\n",
    "\n",
    "num_sum = num_integer + num_string\n",
    "\n",
    "print(\"Sum:\",num_sum)\n",
    "print(\"Data type of num_sum:\",type(num_sum))"
   ]
  },
  {
   "cell_type": "markdown",
   "id": "472ca0fe-71ea-4367-80c0-31b5d9e400e0",
   "metadata": {},
   "source": [
    "# Python Basic Input and Output\n"
   ]
  },
  {
   "cell_type": "code",
   "execution_count": 18,
   "id": "e7f3ad00-96b8-4c43-9527-5e5777f25d02",
   "metadata": {},
   "outputs": [
    {
     "name": "stdout",
     "output_type": "stream",
     "text": [
      "Python is powerful\n"
     ]
    }
   ],
   "source": [
    "print('Python is powerful')\n",
    "\n",
    "# Output: Python is powerful"
   ]
  },
  {
   "cell_type": "code",
   "execution_count": 19,
   "id": "eb2563ca-57e0-47ef-b0b5-cdbc075c1a31",
   "metadata": {},
   "outputs": [
    {
     "name": "stdout",
     "output_type": "stream",
     "text": [
      "Good Morning! It is rainy today\n"
     ]
    }
   ],
   "source": [
    "# print with end whitespace\n",
    "print('Good Morning!', end= ' ')\n",
    "\n",
    "print('It is rainy today')"
   ]
  },
  {
   "cell_type": "code",
   "execution_count": 20,
   "id": "112b1631-501e-4914-90d7-e50bfb5dad63",
   "metadata": {},
   "outputs": [
    {
     "name": "stdout",
     "output_type": "stream",
     "text": [
      "New Year. 2023. See you soon!\n"
     ]
    }
   ],
   "source": [
    "print('New Year', 2023, 'See you soon!', sep= '. ')"
   ]
  },
  {
   "cell_type": "code",
   "execution_count": 21,
   "id": "65182f5a-f428-4e49-a9c7-34b634d43aa8",
   "metadata": {},
   "outputs": [
    {
     "name": "stdout",
     "output_type": "stream",
     "text": [
      "Programiz is awesome.\n"
     ]
    }
   ],
   "source": [
    "# concatenate\n",
    "print('Programiz is ' + 'awesome.')\n"
   ]
  },
  {
   "cell_type": "code",
   "execution_count": 22,
   "id": "da0cf31c-cde4-470f-9488-ecbd61d2bf64",
   "metadata": {},
   "outputs": [
    {
     "name": "stdout",
     "output_type": "stream",
     "text": [
      "The value of x is 5 and y is 10\n"
     ]
    }
   ],
   "source": [
    "x = 5\n",
    "y = 10\n",
    "\n",
    "print('The value of x is {} and y is {}'.format(x,y))"
   ]
  },
  {
   "cell_type": "code",
   "execution_count": 23,
   "id": "2ff66ac3-cc9d-453c-8a8d-92f292cf6003",
   "metadata": {},
   "outputs": [
    {
     "name": "stdin",
     "output_type": "stream",
     "text": [
      "Enter a number:  12\n"
     ]
    },
    {
     "name": "stdout",
     "output_type": "stream",
     "text": [
      "You Entered: 12\n",
      "Data type of num: <class 'str'>\n"
     ]
    }
   ],
   "source": [
    "# using input() to take user input\n",
    "num = input('Enter a number: ')\n",
    "\n",
    "print('You Entered:', num)\n",
    "\n",
    "print('Data type of num:', type(num))"
   ]
  },
  {
   "cell_type": "markdown",
   "id": "832b3803-0b89-4efb-a814-b04b301b1b4c",
   "metadata": {},
   "source": [
    " # Python Operators\n"
   ]
  },
  {
   "cell_type": "code",
   "execution_count": 24,
   "id": "79f10051-2cdd-460f-8091-16ee945d1754",
   "metadata": {},
   "outputs": [
    {
     "name": "stdout",
     "output_type": "stream",
     "text": [
      "Sum:  9\n",
      "Subtraction:  5\n",
      "Multiplication:  14\n",
      "Division:  3.5\n",
      "Floor Division:  3\n",
      "Modulo:  1\n",
      "Power:  49\n"
     ]
    }
   ],
   "source": [
    "a = 7\n",
    "b = 2\n",
    "\n",
    "# addition\n",
    "print ('Sum: ', a + b)  \n",
    "\n",
    "# subtraction\n",
    "print ('Subtraction: ', a - b)   \n",
    "\n",
    "# multiplication\n",
    "print ('Multiplication: ', a * b)  \n",
    "\n",
    "# division\n",
    "print ('Division: ', a / b) \n",
    "\n",
    "# floor division\n",
    "print ('Floor Division: ', a // b)\n",
    "\n",
    "# modulo\n",
    "print ('Modulo: ', a % b)  \n",
    "\n",
    "# a to the power b\n",
    "print ('Power: ', a ** b)   "
   ]
  },
  {
   "cell_type": "code",
   "execution_count": 25,
   "id": "3f9d2e72-dc1d-4b03-b471-3fe4fc8296bd",
   "metadata": {},
   "outputs": [
    {
     "name": "stdout",
     "output_type": "stream",
     "text": [
      "a == b = False\n",
      "a != b = True\n",
      "a > b = True\n",
      "a < b = False\n",
      "a >= b = True\n",
      "a <= b = False\n"
     ]
    }
   ],
   "source": [
    "a = 5\n",
    "\n",
    "b = 2\n",
    "\n",
    "# equal to operator\n",
    "print('a == b =', a == b)\n",
    "\n",
    "# not equal to operator\n",
    "print('a != b =', a != b)\n",
    "\n",
    "# greater than operator\n",
    "print('a > b =', a > b)\n",
    "\n",
    "# less than operator\n",
    "print('a < b =', a < b)\n",
    "\n",
    "# greater than or equal to operator\n",
    "print('a >= b =', a >= b)\n",
    "\n",
    "# less than or equal to operator\n",
    "print('a <= b =', a <= b)"
   ]
  },
  {
   "cell_type": "code",
   "execution_count": 26,
   "id": "a9f2c80b-4522-417b-83f7-e74196a85633",
   "metadata": {},
   "outputs": [
    {
     "name": "stdout",
     "output_type": "stream",
     "text": [
      "True\n"
     ]
    }
   ],
   "source": [
    "a = 5\n",
    "b = 6\n",
    "\n",
    "print((a > 2) and (b >= 6))    # True"
   ]
  },
  {
   "cell_type": "code",
   "execution_count": 27,
   "id": "25655a13-9a23-49a1-bf77-7bc6118415e8",
   "metadata": {},
   "outputs": [
    {
     "name": "stdout",
     "output_type": "stream",
     "text": [
      "True\n",
      "False\n",
      "True\n",
      "False\n"
     ]
    }
   ],
   "source": [
    "# logical AND\n",
    "print(True and True)     # True\n",
    "print(True and False)    # False\n",
    "\n",
    "# logical OR\n",
    "print(True or False)     # True\n",
    "\n",
    "# logical NOT\n",
    "print(not True)          # False"
   ]
  },
  {
   "cell_type": "code",
   "execution_count": 28,
   "id": "1e09d45a-9767-482c-aa3d-30ad9bcdcc4f",
   "metadata": {},
   "outputs": [
    {
     "name": "stdout",
     "output_type": "stream",
     "text": [
      "False\n",
      "True\n",
      "False\n"
     ]
    }
   ],
   "source": [
    "x1 = 5\n",
    "y1 = 5\n",
    "x2 = 'Hello'\n",
    "y2 = 'Hello'\n",
    "x3 = [1,2,3]\n",
    "y3 = [1,2,3]\n",
    "\n",
    "print(x1 is not y1)  # prints False\n",
    "\n",
    "print(x2 is y2)  # prints True\n",
    "\n",
    "print(x3 is y3)  # prints False"
   ]
  },
  {
   "cell_type": "code",
   "execution_count": 29,
   "id": "8bb26f15-48e5-4e78-8150-d84c9dcfc075",
   "metadata": {},
   "outputs": [
    {
     "name": "stdout",
     "output_type": "stream",
     "text": [
      "True\n",
      "True\n",
      "True\n",
      "False\n"
     ]
    }
   ],
   "source": [
    "message = 'Hello world'\n",
    "dict1 = {1:'a', 2:'b'}\n",
    "\n",
    "# check if 'H' is present in message string\n",
    "print('H' in message)  # prints True\n",
    "\n",
    "# check if 'hello' is present in message string\n",
    "print('hello' not in message)  # prints True\n",
    "\n",
    "# check if '1' key is present in dict1\n",
    "print(1 in dict1)  # prints True\n",
    "\n",
    "# check if 'a' key is present in dict1\n",
    "print('a' in dict1)  # prints False"
   ]
  },
  {
   "cell_type": "markdown",
   "id": "2b967747-be8d-4ee4-89ab-f160ab98c8df",
   "metadata": {},
   "source": [
    "# Python if...else Statement\n"
   ]
  },
  {
   "cell_type": "code",
   "execution_count": 30,
   "id": "c5bd7517-593a-4fad-b097-7b92c4525c63",
   "metadata": {},
   "outputs": [
    {
     "name": "stdout",
     "output_type": "stream",
     "text": [
      "Positive number\n",
      "This statement always executes\n"
     ]
    }
   ],
   "source": [
    "number = 10\n",
    "\n",
    "if number > 0:\n",
    "    print('Positive number')\n",
    "\n",
    "else:\n",
    "    print('Negative number')\n",
    "\n",
    "print('This statement always executes')"
   ]
  },
  {
   "cell_type": "code",
   "execution_count": 31,
   "id": "c66fa3bd-1550-4a44-a820-eaafc6721ecc",
   "metadata": {},
   "outputs": [
    {
     "name": "stdout",
     "output_type": "stream",
     "text": [
      "Zero\n",
      "This statement is always executed\n"
     ]
    }
   ],
   "source": [
    "number = 0\n",
    "\n",
    "if number > 0:\n",
    "    print('Positive number')\n",
    "\n",
    "elif number <0:\n",
    "    print('Negative number')\n",
    "\n",
    "else:\n",
    "    print('Zero')\n",
    "\n",
    "print('This statement is always executed')"
   ]
  },
  {
   "cell_type": "code",
   "execution_count": 32,
   "id": "2e3530ce-6bf0-4503-ad89-3e44211f17c8",
   "metadata": {},
   "outputs": [
    {
     "name": "stdout",
     "output_type": "stream",
     "text": [
      "Number is positive\n"
     ]
    }
   ],
   "source": [
    "number = 5\n",
    "\n",
    "# outer if statement\n",
    "if number >= 0:\n",
    "    # inner if statement\n",
    "    if number == 0:\n",
    "      print('Number is 0')\n",
    "    \n",
    "    # inner else statement\n",
    "    else:\n",
    "        print('Number is positive')\n",
    "\n",
    "# outer else statement\n",
    "else:\n",
    "    print('Number is negative')"
   ]
  },
  {
   "cell_type": "markdown",
   "id": "a3673f87-3cdb-42a9-bd55-72ea4e02db82",
   "metadata": {},
   "source": [
    "# Python for Loop\n"
   ]
  },
  {
   "cell_type": "code",
   "execution_count": 33,
   "id": "e54e5883-55ce-40cb-947d-ee167c4d5231",
   "metadata": {},
   "outputs": [
    {
     "name": "stdout",
     "output_type": "stream",
     "text": [
      "Swift\n",
      "Python\n",
      "Go\n"
     ]
    }
   ],
   "source": [
    "languages = ['Swift', 'Python', 'Go']\n",
    "\n",
    "# access elements of the list one by one\n",
    "for i in languages:\n",
    "    print(i)"
   ]
  },
  {
   "cell_type": "code",
   "execution_count": 34,
   "id": "39386965-8b18-4725-bab8-0b125616cde5",
   "metadata": {},
   "outputs": [
    {
     "name": "stdout",
     "output_type": "stream",
     "text": [
      "P\n",
      "y\n",
      "t\n",
      "h\n",
      "o\n",
      "n\n"
     ]
    }
   ],
   "source": [
    "language = 'Python'\n",
    "\n",
    "# iterate over each character in language\n",
    "for x in language:\n",
    "    print(x)"
   ]
  },
  {
   "cell_type": "code",
   "execution_count": 35,
   "id": "218fa893-54a8-4c90-9f10-d627e44739fb",
   "metadata": {},
   "outputs": [
    {
     "name": "stdout",
     "output_type": "stream",
     "text": [
      "0\n",
      "1\n",
      "2\n",
      "3\n"
     ]
    }
   ],
   "source": [
    "# iterate from i = 0 to i = 3\n",
    "for i in range(4):\n",
    "    print(i)"
   ]
  },
  {
   "cell_type": "markdown",
   "id": "8eb350f1-1902-4cc3-ae41-eef375c65386",
   "metadata": {},
   "source": [
    "# Python while Loop\n"
   ]
  },
  {
   "cell_type": "code",
   "execution_count": 36,
   "id": "776e3865-1e91-49a5-927c-2cc559dcba46",
   "metadata": {},
   "outputs": [
    {
     "name": "stdout",
     "output_type": "stream",
     "text": [
      "1\n",
      "2\n",
      "3\n"
     ]
    }
   ],
   "source": [
    "number = 1\n",
    "\n",
    "while number <= 3:\n",
    "    print(number)\n",
    "    number = number + 1"
   ]
  },
  {
   "cell_type": "code",
   "execution_count": 37,
   "id": "abae35c5-e9c7-4073-a3c4-f0488ba0b876",
   "metadata": {},
   "outputs": [
    {
     "name": "stdin",
     "output_type": "stream",
     "text": [
      "Enter a number:  12\n",
      "Enter a number:  23\n",
      "Enter a number:  34\n",
      "Enter a number:  34\n",
      "Enter a number:  34\n",
      "Enter a number:  45\n",
      "Enter a number:  0\n"
     ]
    },
    {
     "name": "stdout",
     "output_type": "stream",
     "text": [
      "The sum is 182\n"
     ]
    }
   ],
   "source": [
    "# Calculate the sum of numbers until user enters 0\n",
    "number = int(input('Enter a number: '))\n",
    "\n",
    "total = 0\n",
    "\n",
    "# iterate until the user enters 0\n",
    "while number != 0:\n",
    "    total += number\n",
    "    number = int(input('Enter a number: '))\n",
    "\n",
    "print('The sum is', total)"
   ]
  },
  {
   "cell_type": "markdown",
   "id": "fea2e234-a7e2-4d8d-aa50-9753aa05e8c1",
   "metadata": {},
   "source": [
    "# Python break and continue\n"
   ]
  },
  {
   "cell_type": "code",
   "execution_count": 38,
   "id": "72a8dcf5-5152-4a5d-9a24-46e352a54350",
   "metadata": {},
   "outputs": [
    {
     "name": "stdout",
     "output_type": "stream",
     "text": [
      "0\n",
      "1\n",
      "2\n"
     ]
    }
   ],
   "source": [
    "for i in range(5):\n",
    "    if i == 3:\n",
    "        break\n",
    "    print(i)"
   ]
  },
  {
   "cell_type": "code",
   "execution_count": 39,
   "id": "28f2fa34-2baf-422e-b21f-513823877b3a",
   "metadata": {},
   "outputs": [
    {
     "name": "stdout",
     "output_type": "stream",
     "text": [
      "0\n",
      "1\n",
      "2\n",
      "4\n"
     ]
    }
   ],
   "source": [
    "for i in range(5):\n",
    "    if i == 3:\n",
    "        continue\n",
    "    print(i)"
   ]
  },
  {
   "cell_type": "markdown",
   "id": "72921826-1c52-4d3f-ab35-26d114d670c4",
   "metadata": {},
   "source": [
    "# Python pass Statement\n"
   ]
  },
  {
   "cell_type": "code",
   "execution_count": 41,
   "id": "57d14cb7-11c8-4e89-99cd-b0af0f8f1058",
   "metadata": {},
   "outputs": [
    {
     "name": "stdout",
     "output_type": "stream",
     "text": [
      "Hello\n"
     ]
    }
   ],
   "source": [
    "n = 10\n",
    "\n",
    "# use pass inside if statement\n",
    "if n > 10:\n",
    "    pass\n",
    "\n",
    "print('Hello')"
   ]
  },
  {
   "cell_type": "markdown",
   "id": "2c5f134b-2124-4b57-b7f2-3541c15c935e",
   "metadata": {},
   "source": [
    "# Python Functions\n"
   ]
  },
  {
   "cell_type": "code",
   "execution_count": 43,
   "id": "9f7059b6-d40b-41dd-8a6d-9a8125848911",
   "metadata": {},
   "outputs": [
    {
     "name": "stdout",
     "output_type": "stream",
     "text": [
      "Hello World!\n",
      "Outside function\n"
     ]
    }
   ],
   "source": [
    "def greet():\n",
    "    print('Hello World!')\n",
    "\n",
    "# call the function\n",
    "greet()\n",
    "\n",
    "print('Outside function')"
   ]
  },
  {
   "cell_type": "code",
   "execution_count": 44,
   "id": "9d77747b-2bb6-481d-a587-07271c22fe34",
   "metadata": {},
   "outputs": [
    {
     "name": "stdout",
     "output_type": "stream",
     "text": [
      "Hello John\n"
     ]
    }
   ],
   "source": [
    "def greet(name):\n",
    "    print(\"Hello\", name)\n",
    "\n",
    "# pass argument\n",
    "greet(\"John\")"
   ]
  },
  {
   "cell_type": "code",
   "execution_count": 45,
   "id": "de082f8d-a4d3-4bcd-967a-e20772c6dbbe",
   "metadata": {},
   "outputs": [
    {
     "name": "stdout",
     "output_type": "stream",
     "text": [
      "Sum:  9\n"
     ]
    }
   ],
   "source": [
    "# function with two arguments\n",
    "def add_numbers(num1, num2):\n",
    "    sum = num1 + num2\n",
    "    print(\"Sum: \", sum)\n",
    "\n",
    "# function call with two values\n",
    "add_numbers(5, 4)"
   ]
  },
  {
   "cell_type": "code",
   "execution_count": 46,
   "id": "45e8fb21-2eca-4f10-b4ca-a0c71821656c",
   "metadata": {},
   "outputs": [
    {
     "name": "stdout",
     "output_type": "stream",
     "text": [
      "Square: 9\n"
     ]
    }
   ],
   "source": [
    "# function definition\n",
    "def find_square(num):\n",
    "    result = num * num\n",
    "    return result\n",
    "\n",
    "# function call\n",
    "square = find_square(3)\n",
    "\n",
    "print('Square:', square)"
   ]
  },
  {
   "cell_type": "code",
   "execution_count": 47,
   "id": "cea1340b-7a43-4538-9132-555b6fc163a9",
   "metadata": {},
   "outputs": [
    {
     "name": "stdout",
     "output_type": "stream",
     "text": [
      "Square Root of 4 is 2.0\n",
      "2 to the power 3 is 8\n"
     ]
    }
   ],
   "source": [
    "import math\n",
    "\n",
    "# sqrt computes the square root\n",
    "square_root = math.sqrt(4)\n",
    "\n",
    "print(\"Square Root of 4 is\",square_root)\n",
    "\n",
    "# pow() comptes the power\n",
    "power = pow(2, 3)\n",
    "\n",
    "print(\"2 to the power 3 is\",power)"
   ]
  },
  {
   "cell_type": "code",
   "execution_count": 48,
   "id": "9ddc70ec-4423-4994-a035-e47ee399af00",
   "metadata": {},
   "outputs": [
    {
     "name": "stdout",
     "output_type": "stream",
     "text": [
      "Sum: 5\n"
     ]
    }
   ],
   "source": [
    "def add_numbers(a, b):\n",
    "    sum = a + b\n",
    "    print('Sum:', sum)\n",
    "\n",
    "add_numbers(2, 3)\n",
    "\n",
    "# Output: Sum: 5"
   ]
  },
  {
   "cell_type": "code",
   "execution_count": 49,
   "id": "e991532d-83c6-4a1b-ad91-a0344338bcbd",
   "metadata": {},
   "outputs": [
    {
     "name": "stdout",
     "output_type": "stream",
     "text": [
      "Sum: 5\n",
      "Sum: 10\n",
      "Sum: 15\n"
     ]
    }
   ],
   "source": [
    "def add_numbers( a = 7,  b = 8):\n",
    "    sum = a + b\n",
    "    print('Sum:', sum)\n",
    "\n",
    "\n",
    "# function call with two arguments\n",
    "add_numbers(2, 3)\n",
    "\n",
    "#  function call with one argument\n",
    "add_numbers(a = 2)\n",
    "\n",
    "# function call with no arguments\n",
    "add_numbers()"
   ]
  },
  {
   "cell_type": "code",
   "execution_count": 50,
   "id": "6ecf749f-4b9c-409b-a164-6648b2094607",
   "metadata": {},
   "outputs": [
    {
     "name": "stdout",
     "output_type": "stream",
     "text": [
      "First Name: Eric\n",
      "Last Name: Cartman\n"
     ]
    }
   ],
   "source": [
    "def display_info(first_name, last_name):\n",
    "    print('First Name:', first_name)\n",
    "    print('Last Name:', last_name)\n",
    "\n",
    "display_info(last_name = 'Cartman', first_name = 'Eric')"
   ]
  },
  {
   "cell_type": "code",
   "execution_count": 52,
   "id": "b15b6a8c-6b8d-4ade-8c6c-8ac5fb185c11",
   "metadata": {},
   "outputs": [
    {
     "name": "stdout",
     "output_type": "stream",
     "text": [
      "Sum =  6\n",
      "Sum =  13\n"
     ]
    }
   ],
   "source": [
    "# program to find sum of multiple numbers \n",
    "\n",
    "def find_sum(*numbers):\n",
    "    result = 0\n",
    "    \n",
    "    for num in numbers:\n",
    "        result = result + num\n",
    "    \n",
    "    print(\"Sum = \", result)\n",
    "\n",
    "# function call with 3 arguments\n",
    "find_sum(1, 2, 3)\n",
    "\n",
    "# function call with 2 arguments\n",
    "find_sum(4, 9)"
   ]
  },
  {
   "cell_type": "markdown",
   "id": "092b3961-9faf-4d2d-b380-050e1fd1964e",
   "metadata": {},
   "source": [
    "# Python Recursion\n"
   ]
  },
  {
   "cell_type": "code",
   "execution_count": 53,
   "id": "2c662755-6d1f-4003-b424-62db082a0aac",
   "metadata": {},
   "outputs": [
    {
     "name": "stdout",
     "output_type": "stream",
     "text": [
      "The factorial of 3 is 6\n"
     ]
    }
   ],
   "source": [
    "def factorial(x):\n",
    "    \"\"\"This is a recursive function\n",
    "    to find the factorial of an integer\"\"\"\n",
    "\n",
    "    if x == 1:\n",
    "        return 1\n",
    "    else:\n",
    "        return (x * factorial(x-1))\n",
    "\n",
    "\n",
    "num = 3\n",
    "print(\"The factorial of\", num, \"is\", factorial(num))"
   ]
  },
  {
   "cell_type": "markdown",
   "id": "93489274-bee7-43e2-9a52-b2b29a018d0f",
   "metadata": {},
   "source": [
    "# Python Lambda/Anonymous Function\n"
   ]
  },
  {
   "cell_type": "code",
   "execution_count": 54,
   "id": "3f8ba75b-e8dd-468c-94a5-ff2b6b6fa2f1",
   "metadata": {},
   "outputs": [
    {
     "name": "stdout",
     "output_type": "stream",
     "text": [
      "Hello World\n"
     ]
    }
   ],
   "source": [
    "# declare a lambda function\n",
    "greet = lambda : print('Hello World')\n",
    "\n",
    "# call lambda function\n",
    "greet()\n",
    "\n",
    "# Output: Hello World"
   ]
  },
  {
   "cell_type": "code",
   "execution_count": 55,
   "id": "25cd2f8e-2c94-4067-b3c8-2d06b6748775",
   "metadata": {},
   "outputs": [
    {
     "name": "stdout",
     "output_type": "stream",
     "text": [
      "Hey there, Delilah\n"
     ]
    }
   ],
   "source": [
    "# lambda that accepts one argument\n",
    "greet_user = lambda name : print('Hey there,', name)\n",
    "\n",
    "# lambda call\n",
    "greet_user('Delilah')\n",
    "\n",
    "# Output: Hey there, Delilah"
   ]
  },
  {
   "cell_type": "markdown",
   "id": "1fb4a1d0-3943-439c-b0a0-9d28f27048a1",
   "metadata": {},
   "source": [
    "# Python Variable Scope\n"
   ]
  },
  {
   "cell_type": "code",
   "execution_count": 56,
   "id": "c904b661-2dfb-463a-82f3-b85cfe6954da",
   "metadata": {},
   "outputs": [
    {
     "name": "stdout",
     "output_type": "stream",
     "text": [
      "Local Hello\n",
      "Hello world\n"
     ]
    }
   ],
   "source": [
    "def greet():\n",
    "\n",
    "    # local variable\n",
    "    message = 'Hello'\n",
    "    \n",
    "    print('Local', message)\n",
    "\n",
    "greet()\n",
    "\n",
    "# try to access message variable \n",
    "# outside greet() function\n",
    "print(message)"
   ]
  },
  {
   "cell_type": "code",
   "execution_count": 57,
   "id": "e43cf9ae-1dc7-4374-9d5f-6efb353d3a01",
   "metadata": {},
   "outputs": [
    {
     "name": "stdout",
     "output_type": "stream",
     "text": [
      "Local Hello\n",
      "Global Hello\n"
     ]
    }
   ],
   "source": [
    "# declare global variable\n",
    "message = 'Hello'\n",
    "\n",
    "def greet():\n",
    "    # declare local variable\n",
    "    print('Local', message)\n",
    "\n",
    "greet()\n",
    "print('Global', message)"
   ]
  },
  {
   "cell_type": "code",
   "execution_count": 58,
   "id": "706ac9de-cbda-4052-9906-061041476829",
   "metadata": {},
   "outputs": [
    {
     "name": "stdout",
     "output_type": "stream",
     "text": [
      "inner: nonlocal\n",
      "outer: nonlocal\n"
     ]
    }
   ],
   "source": [
    "# outside function \n",
    "def outer():\n",
    "    message = 'local'\n",
    "\n",
    "    # nested function  \n",
    "    def inner():\n",
    "\n",
    "        # declare nonlocal variable\n",
    "        nonlocal message\n",
    "\n",
    "        message = 'nonlocal'\n",
    "        print(\"inner:\", message)\n",
    "\n",
    "    inner()\n",
    "    print(\"outer:\", message)\n",
    "\n",
    "outer()"
   ]
  },
  {
   "cell_type": "markdown",
   "id": "419b7d74-853f-4c67-bda9-8bb3c8a5691e",
   "metadata": {},
   "source": [
    "# Python Modules\n"
   ]
  },
  {
   "cell_type": "code",
   "execution_count": 59,
   "id": "bdb3aa2e-5216-4bb1-8033-12138652d347",
   "metadata": {},
   "outputs": [
    {
     "name": "stdout",
     "output_type": "stream",
     "text": [
      "The value of pi is 3.141592653589793\n"
     ]
    }
   ],
   "source": [
    "# import standard math module \n",
    "import math\n",
    "\n",
    "# use math.pi to get value of pi\n",
    "print(\"The value of pi is\", math.pi)"
   ]
  },
  {
   "cell_type": "code",
   "execution_count": 60,
   "id": "f484aea7-5c8e-461e-b6ac-cd2b73591d8c",
   "metadata": {},
   "outputs": [
    {
     "name": "stdout",
     "output_type": "stream",
     "text": [
      "3.141592653589793\n"
     ]
    }
   ],
   "source": [
    "# import module by renaming it\n",
    "import math as m\n",
    "\n",
    "print(m.pi)\n",
    "\n",
    "# Output: 3.141592653589793"
   ]
  },
  {
   "cell_type": "code",
   "execution_count": 61,
   "id": "03816355-8099-48ac-adf6-5ea7ce61b099",
   "metadata": {},
   "outputs": [
    {
     "name": "stdout",
     "output_type": "stream",
     "text": [
      "3.141592653589793\n"
     ]
    }
   ],
   "source": [
    "# import only pi from math module\n",
    "from math import pi\n",
    "\n",
    "print(pi)\n",
    "\n",
    "# Output: 3.141592653589793"
   ]
  },
  {
   "cell_type": "code",
   "execution_count": 62,
   "id": "6186929b-df61-4b1a-95c0-203be830cdd9",
   "metadata": {},
   "outputs": [
    {
     "name": "stdout",
     "output_type": "stream",
     "text": [
      "The value of pi is 3.141592653589793\n"
     ]
    }
   ],
   "source": [
    "# import all names from the standard module math\n",
    "from math import *\n",
    "\n",
    "print(\"The value of pi is\", pi)"
   ]
  },
  {
   "cell_type": "markdown",
   "id": "d395145a-631c-49b6-8d15-1c99880d11b9",
   "metadata": {},
   "source": [
    "# Python List"
   ]
  },
  {
   "cell_type": "code",
   "execution_count": 63,
   "id": "cf14bf04-1996-4b3e-bedd-eda3f3d856a9",
   "metadata": {},
   "outputs": [
    {
     "name": "stdout",
     "output_type": "stream",
     "text": [
      "[19, 26, 29]\n"
     ]
    }
   ],
   "source": [
    " # a list of three elements\n",
    "ages = [19, 26, 29]\n",
    "print(ages)\n",
    "\n",
    "# Output: [19, 26, 29]"
   ]
  },
  {
   "cell_type": "code",
   "execution_count": 64,
   "id": "ccb2c436-41fe-4f28-8f50-92b24c66b838",
   "metadata": {},
   "outputs": [
    {
     "name": "stdout",
     "output_type": "stream",
     "text": [
      "Python\n",
      "C++\n"
     ]
    }
   ],
   "source": [
    "languages = ['Python', 'Swift', 'C++']\n",
    "\n",
    "# access the first element\n",
    "print(languages[0])   # Python\n",
    "\n",
    "# access the third element\n",
    "print(languages[2])   # C++"
   ]
  },
  {
   "cell_type": "code",
   "execution_count": 65,
   "id": "35267b3e-e875-4a4b-be50-21ceb5ad8122",
   "metadata": {},
   "outputs": [
    {
     "name": "stdout",
     "output_type": "stream",
     "text": [
      "Original List: ['apple', 'banana', 'orange']\n",
      "Updated List: ['apple', 'banana', 'orange', 'cherry']\n"
     ]
    }
   ],
   "source": [
    "fruits = ['apple', 'banana', 'orange']\n",
    "print('Original List:', fruits)\n",
    "\n",
    "# using append method \n",
    "fruits.append('cherry')\n",
    "\n",
    "print('Updated List:', fruits)"
   ]
  },
  {
   "cell_type": "code",
   "execution_count": 66,
   "id": "48cc8a54-3e30-456f-b4ff-ec60a724a6cb",
   "metadata": {},
   "outputs": [
    {
     "name": "stdout",
     "output_type": "stream",
     "text": [
      "Original List: ['Red', 'Black', 'Green']\n",
      "Updated List: ['Red', 'Black', 'Blue']\n"
     ]
    }
   ],
   "source": [
    "colors = ['Red', 'Black', 'Green']\n",
    "print('Original List:', colors)\n",
    "\n",
    "# changing the third item to 'Blue'\n",
    "colors[2] = 'Blue'\n",
    "\n",
    "print('Updated List:', colors)"
   ]
  },
  {
   "cell_type": "code",
   "execution_count": 67,
   "id": "1f21a9ad-4187-4af4-824f-a5e35019d806",
   "metadata": {},
   "outputs": [
    {
     "name": "stdout",
     "output_type": "stream",
     "text": [
      "[2, 7, 9]\n"
     ]
    }
   ],
   "source": [
    "numbers = [2,4,7,9]\n",
    "\n",
    "# remove 4 from the list\n",
    "numbers.remove(4)\n",
    "\n",
    "print(numbers) \n",
    "\n",
    "# Output: [2, 7, 9]"
   ]
  },
  {
   "cell_type": "code",
   "execution_count": 68,
   "id": "e220af03-fdb3-466b-9c3f-1cdaac53c86b",
   "metadata": {},
   "outputs": [
    {
     "name": "stdout",
     "output_type": "stream",
     "text": [
      "Total Elements:  3\n"
     ]
    }
   ],
   "source": [
    "cars = ['BMW', 'Mercedes', 'Tesla']\n",
    "\n",
    "print('Total Elements: ', len(cars))  \n",
    "  \n",
    "# Output: Total Elements:  3"
   ]
  },
  {
   "cell_type": "code",
   "execution_count": 69,
   "id": "f88c4824-5645-4f8a-8306-177365cca5f1",
   "metadata": {},
   "outputs": [
    {
     "name": "stdout",
     "output_type": "stream",
     "text": [
      "apple\n",
      "banana\n",
      "orange\n"
     ]
    }
   ],
   "source": [
    "fruits = ['apple', 'banana', 'orange']\n",
    "\n",
    "# iterate through the list\n",
    "for fruit in fruits:\n",
    "    print(fruit)"
   ]
  },
  {
   "cell_type": "markdown",
   "id": "1ff430a7-6563-47a4-a391-d59f838cb26f",
   "metadata": {},
   "source": [
    "# Python Tuple\n"
   ]
  },
  {
   "cell_type": "code",
   "execution_count": 70,
   "id": "20ff8d22-129c-414c-8288-8aa7c16d70ed",
   "metadata": {},
   "outputs": [
    {
     "name": "stdout",
     "output_type": "stream",
     "text": [
      "(1, 2, -5)\n"
     ]
    }
   ],
   "source": [
    "numbers = (1, 2, -5)\n",
    "print(numbers)\n",
    "\n",
    "# Output: (1, 2, -5)"
   ]
  },
  {
   "cell_type": "code",
   "execution_count": 71,
   "id": "589b1351-cede-4eac-af52-a6cf154d01de",
   "metadata": {},
   "outputs": [
    {
     "name": "stdout",
     "output_type": "stream",
     "text": [
      "Python\n",
      "C++\n"
     ]
    }
   ],
   "source": [
    "languages = ('Python', 'Swift', 'C++')\n",
    "\n",
    "# access the first item\n",
    "print(languages[0])   # Python\n",
    "\n",
    "# access the third item\n",
    "print(languages[2])   # C++"
   ]
  },
  {
   "cell_type": "code",
   "execution_count": 73,
   "id": "3aff2ecc-00a7-4de0-80a1-fa98f35397d9",
   "metadata": {},
   "outputs": [
    {
     "ename": "TypeError",
     "evalue": "'tuple' object does not support item assignment",
     "output_type": "error",
     "traceback": [
      "\u001b[1;31m---------------------------------------------------------------------------\u001b[0m",
      "\u001b[1;31mTypeError\u001b[0m                                 Traceback (most recent call last)",
      "Cell \u001b[1;32mIn[73], line 4\u001b[0m\n\u001b[0;32m      1\u001b[0m cars \u001b[38;5;241m=\u001b[39m (\u001b[38;5;124m'\u001b[39m\u001b[38;5;124mBMW\u001b[39m\u001b[38;5;124m'\u001b[39m, \u001b[38;5;124m'\u001b[39m\u001b[38;5;124mTesla\u001b[39m\u001b[38;5;124m'\u001b[39m, \u001b[38;5;124m'\u001b[39m\u001b[38;5;124mFord\u001b[39m\u001b[38;5;124m'\u001b[39m, \u001b[38;5;124m'\u001b[39m\u001b[38;5;124mToyota\u001b[39m\u001b[38;5;124m'\u001b[39m)\n\u001b[0;32m      3\u001b[0m \u001b[38;5;66;03m# trying to modify a tuple\u001b[39;00m\n\u001b[1;32m----> 4\u001b[0m cars[\u001b[38;5;241m0\u001b[39m] \u001b[38;5;241m=\u001b[39m \u001b[38;5;124m'\u001b[39m\u001b[38;5;124mNissan\u001b[39m\u001b[38;5;124m'\u001b[39m    \u001b[38;5;66;03m# error\u001b[39;00m\n\u001b[0;32m      6\u001b[0m \u001b[38;5;28mprint\u001b[39m(cars)\n",
      "\u001b[1;31mTypeError\u001b[0m: 'tuple' object does not support item assignment"
     ]
    }
   ],
   "source": [
    "cars = ('BMW', 'Tesla', 'Ford', 'Toyota')\n",
    "\n",
    "# trying to modify a tuple\n",
    "cars[0] = 'Nissan'    # error\n",
    "       \n",
    "print(cars)\n",
    "\n",
    "# It throws an error"
   ]
  },
  {
   "cell_type": "code",
   "execution_count": 74,
   "id": "e6d77740-89df-4cd1-b6b1-f212506e0695",
   "metadata": {},
   "outputs": [
    {
     "name": "stdout",
     "output_type": "stream",
     "text": [
      "Total Items: 4\n"
     ]
    }
   ],
   "source": [
    "cars = ('BMW', 'Tesla', 'Ford', 'Toyota')\n",
    "print('Total Items:', len(cars)) \n",
    "       \n",
    "# Output: Total Items: 4"
   ]
  },
  {
   "cell_type": "code",
   "execution_count": 75,
   "id": "09a8af18-d1a6-465b-ac49-b14342ea012b",
   "metadata": {},
   "outputs": [
    {
     "name": "stdout",
     "output_type": "stream",
     "text": [
      "apple\n",
      "banana\n",
      "orange\n"
     ]
    }
   ],
   "source": [
    "fruits = ('apple','banana','orange')\n",
    "\n",
    "# iterate through the tuple\n",
    "for fruit in fruits:\n",
    "    print(fruit)"
   ]
  },
  {
   "cell_type": "markdown",
   "id": "677ee4a6-f24e-45fc-b1c9-995c6995851f",
   "metadata": {},
   "source": [
    "# Python Strings\n"
   ]
  },
  {
   "cell_type": "code",
   "execution_count": 77,
   "id": "36888f32-f4f5-455a-a50b-57bfdab1c2d9",
   "metadata": {},
   "outputs": [
    {
     "name": "stdout",
     "output_type": "stream",
     "text": [
      "Python\n",
      "I love Python.\n"
     ]
    }
   ],
   "source": [
    "# create string type variables\n",
    "\n",
    "name = \"Python\"\n",
    "print(name)\n",
    "\n",
    "message = \"I love Python.\"\n",
    "print(message)"
   ]
  },
  {
   "cell_type": "code",
   "execution_count": 78,
   "id": "93a7644d-95c7-45ad-a944-cf807805296e",
   "metadata": {},
   "outputs": [
    {
     "name": "stdout",
     "output_type": "stream",
     "text": [
      "e\n"
     ]
    }
   ],
   "source": [
    "greet = 'hello'\n",
    "\n",
    "# access 1st index element\n",
    "print(greet[1]) # \"e\""
   ]
  },
  {
   "cell_type": "code",
   "execution_count": 84,
   "id": "54432513-3512-4d97-94ce-1ffbf48c5735",
   "metadata": {},
   "outputs": [
    {
     "ename": "TypeError",
     "evalue": "'str' object does not support item assignment",
     "output_type": "error",
     "traceback": [
      "\u001b[1;31m---------------------------------------------------------------------------\u001b[0m",
      "\u001b[1;31mTypeError\u001b[0m                                 Traceback (most recent call last)",
      "Cell \u001b[1;32mIn[84], line 2\u001b[0m\n\u001b[0;32m      1\u001b[0m message \u001b[38;5;241m=\u001b[39m \u001b[38;5;124m'\u001b[39m\u001b[38;5;124mHola Amigos\u001b[39m\u001b[38;5;124m'\u001b[39m\n\u001b[1;32m----> 2\u001b[0m message[\u001b[38;5;241m0\u001b[39m] \u001b[38;5;241m=\u001b[39m \u001b[38;5;124m'\u001b[39m\u001b[38;5;124mH\u001b[39m\u001b[38;5;124m'\u001b[39m\n\u001b[0;32m      3\u001b[0m \u001b[38;5;28mprint\u001b[39m(message)\n",
      "\u001b[1;31mTypeError\u001b[0m: 'str' object does not support item assignment"
     ]
    }
   ],
   "source": [
    "message = 'Hola Amigos'\n",
    "message[0] = 'H'\n",
    "print(message)\n",
    "#  it does not support assignemnt"
   ]
  },
  {
   "cell_type": "code",
   "execution_count": 85,
   "id": "4d2e29b6-d5e6-4e09-aac4-7d324dcd6ca7",
   "metadata": {},
   "outputs": [
    {
     "name": "stdout",
     "output_type": "stream",
     "text": [
      "Hello Friends\n"
     ]
    }
   ],
   "source": [
    "message = 'Hola Amigos'\n",
    "\n",
    "# assign new string to message variable\n",
    "message = 'Hello Friends'\n",
    "\n",
    "print(message); # prints \"Hello Friends\""
   ]
  },
  {
   "cell_type": "code",
   "execution_count": 86,
   "id": "856ffbbc-85af-4c30-ab31-49463423feac",
   "metadata": {},
   "outputs": [
    {
     "name": "stdout",
     "output_type": "stream",
     "text": [
      "\n",
      "Never gonna give you up\n",
      "Never gonna let you down\n",
      "\n"
     ]
    }
   ],
   "source": [
    "# multiline string \n",
    "message = \"\"\"\n",
    "Never gonna give you up\n",
    "Never gonna let you down\n",
    "\"\"\"\n",
    "\n",
    "print(message)"
   ]
  },
  {
   "cell_type": "code",
   "execution_count": 87,
   "id": "7f04b666-a56a-40ad-a955-1e591a9b314f",
   "metadata": {},
   "outputs": [
    {
     "name": "stdout",
     "output_type": "stream",
     "text": [
      "False\n",
      "True\n"
     ]
    }
   ],
   "source": [
    "str1 = \"Hello, world!\"\n",
    "str2 = \"I love Swift.\"\n",
    "str3 = \"Hello, world!\"\n",
    "\n",
    "# compare str1 and str2\n",
    "print(str1 == str2)\n",
    "\n",
    "# compare str1 and str3\n",
    "print(str1 == str3)"
   ]
  },
  {
   "cell_type": "code",
   "execution_count": 88,
   "id": "4437db62-7481-4b1a-8b39-9cf50c987925",
   "metadata": {},
   "outputs": [
    {
     "name": "stdout",
     "output_type": "stream",
     "text": [
      "Hello, Jack\n"
     ]
    }
   ],
   "source": [
    "greet = \"Hello, \"\n",
    "name = \"Jack\"\n",
    "\n",
    "# using + operator\n",
    "result = greet + name\n",
    "print(result)\n",
    "\n",
    "# Output: Hello, Jack"
   ]
  },
  {
   "cell_type": "code",
   "execution_count": 89,
   "id": "6abdf964-1419-4171-b0cf-0b5ebf7cda8a",
   "metadata": {},
   "outputs": [
    {
     "name": "stdout",
     "output_type": "stream",
     "text": [
      "H\n",
      "e\n",
      "l\n",
      "l\n",
      "o\n"
     ]
    }
   ],
   "source": [
    "greet = 'Hello'\n",
    "\n",
    "# iterating through greet string\n",
    "for letter in greet:\n",
    "    print(letter)"
   ]
  },
  {
   "cell_type": "code",
   "execution_count": 90,
   "id": "93dd6cff-2f4b-4c4e-8576-19dbe61afa55",
   "metadata": {},
   "outputs": [
    {
     "name": "stdout",
     "output_type": "stream",
     "text": [
      "5\n"
     ]
    }
   ],
   "source": [
    "greet = 'Hello'\n",
    "\n",
    "# count length of greet string\n",
    "print(len(greet))\n",
    "\n",
    "# Output: 5"
   ]
  },
  {
   "cell_type": "code",
   "execution_count": 91,
   "id": "1c2d528b-5131-42fe-8ca9-1e4399d5ce2e",
   "metadata": {},
   "outputs": [
    {
     "name": "stdout",
     "output_type": "stream",
     "text": [
      "True\n",
      "False\n"
     ]
    }
   ],
   "source": [
    "print('a' in 'program') # True\n",
    "print('at' not in 'battle') # False"
   ]
  },
  {
   "cell_type": "code",
   "execution_count": 92,
   "id": "0e2cc3ff-e5e1-4695-bd55-b4e544f259c6",
   "metadata": {},
   "outputs": [
    {
     "name": "stdout",
     "output_type": "stream",
     "text": [
      "He said, \"What's there?\"\n"
     ]
    }
   ],
   "source": [
    "# escape double quotes\n",
    "example = \"He said, \\\"What's there?\\\"\"\n",
    "\n",
    "# escape single quotes\n",
    "example = 'He said, \"What\\'s there?\"'\n",
    "\n",
    "print(example)\n",
    "\n",
    "# Output: He said, \"What's there?\""
   ]
  },
  {
   "cell_type": "code",
   "execution_count": 93,
   "id": "4f1c5773-ab0d-4bc3-9011-efe2c8629dca",
   "metadata": {},
   "outputs": [
    {
     "name": "stdout",
     "output_type": "stream",
     "text": [
      "Cathy is from UK\n"
     ]
    }
   ],
   "source": [
    "name = 'Cathy'\n",
    "country = 'UK'\n",
    "\n",
    "print(f'{name} is from {country}')"
   ]
  },
  {
   "cell_type": "markdown",
   "id": "7a61524f-6279-4000-8f0e-c05ee77cf109",
   "metadata": {},
   "source": [
    "# Python Sets\n"
   ]
  },
  {
   "cell_type": "code",
   "execution_count": 95,
   "id": "653bfe81-8694-4e23-ac70-b374d42d8bc3",
   "metadata": {},
   "outputs": [
    {
     "name": "stdout",
     "output_type": "stream",
     "text": [
      "Student ID: {112, 114, 115, 116, 118}\n",
      "Vowel Letters: {'u', 'a', 'i', 'o', 'e'}\n",
      "Set of mixed data types: {'Hello', 'Bye', 101, -2}\n"
     ]
    }
   ],
   "source": [
    "# create a set of integer type\n",
    "student_id = {112, 114, 116, 118, 115}\n",
    "print('Student ID:', student_id)\n",
    "\n",
    "# create a set of string type\n",
    "vowel_letters = {'a', 'e', 'i', 'o', 'u'}\n",
    "print('Vowel Letters:', vowel_letters)\n",
    "\n",
    "# create a set of mixed data types\n",
    "mixed_set = {'Hello', 101, -2, 'Bye'}\n",
    "print('Set of mixed data types:', mixed_set)"
   ]
  },
  {
   "cell_type": "code",
   "execution_count": 96,
   "id": "9c599612-85d7-4c52-a2ad-ff534a87051d",
   "metadata": {},
   "outputs": [
    {
     "name": "stdout",
     "output_type": "stream",
     "text": [
      "Data type of empty_set: <class 'set'>\n",
      "Data type of empty_dictionary: <class 'dict'>\n"
     ]
    }
   ],
   "source": [
    "# create an empty set\n",
    "empty_set = set()\n",
    "\n",
    "# create an empty dictionary\n",
    "empty_dictionary = { }\n",
    "\n",
    "# check data type of empty_set\n",
    "print('Data type of empty_set:', type(empty_set))\n",
    "\n",
    "# check data type of dictionary_set\n",
    "print('Data type of empty_dictionary:', type(empty_dictionary))"
   ]
  },
  {
   "cell_type": "code",
   "execution_count": 97,
   "id": "f21f9a5c-55f6-4954-b8a5-befab6f76242",
   "metadata": {},
   "outputs": [
    {
     "name": "stdout",
     "output_type": "stream",
     "text": [
      "Initial Set: {34, 12, 21, 54}\n",
      "Updated Set: {32, 34, 12, 21, 54}\n"
     ]
    }
   ],
   "source": [
    "numbers = {21, 34, 54, 12}\n",
    "\n",
    "print('Initial Set:',numbers)\n",
    "\n",
    "# using add() method\n",
    "numbers.add(32)\n",
    "\n",
    "print('Updated Set:', numbers) "
   ]
  },
  {
   "cell_type": "code",
   "execution_count": 98,
   "id": "628a7860-0cf2-491d-b881-e0687bfe0912",
   "metadata": {},
   "outputs": [
    {
     "name": "stdout",
     "output_type": "stream",
     "text": [
      "{'google', 'Lacoste', 'Ralph Lauren', 'apple'}\n"
     ]
    }
   ],
   "source": [
    "companies = {'Lacoste', 'Ralph Lauren'}\n",
    "tech_companies = ['apple', 'google', 'apple']\n",
    "\n",
    "# using update() method\n",
    "companies.update(tech_companies)\n",
    "\n",
    "print(companies)\n",
    "\n",
    "# Output: {'google', 'apple', 'Lacoste', 'Ralph Lauren'}"
   ]
  },
  {
   "cell_type": "code",
   "execution_count": 99,
   "id": "337374a2-7fe1-4639-94ea-8e1931f14690",
   "metadata": {},
   "outputs": [
    {
     "name": "stdout",
     "output_type": "stream",
     "text": [
      "Initial Set: {'Swift', 'Python', 'Java'}\n",
      "Set after remove(): {'Swift', 'Python'}\n"
     ]
    }
   ],
   "source": [
    "languages = {'Swift', 'Java', 'Python'}\n",
    "\n",
    "print('Initial Set:',languages)\n",
    "\n",
    "# remove 'Java' from a set\n",
    "removedValue = languages.discard('Java')\n",
    "\n",
    "print('Set after remove():', languages)"
   ]
  },
  {
   "cell_type": "code",
   "execution_count": 100,
   "id": "ec88938b-28e6-40fd-a84b-5777191ed009",
   "metadata": {},
   "outputs": [
    {
     "name": "stdout",
     "output_type": "stream",
     "text": [
      "Apple\n",
      "Mango\n",
      "Peach\n"
     ]
    }
   ],
   "source": [
    "fruits = {\"Apple\", \"Peach\", \"Mango\"}\n",
    "\n",
    "# for loop to access each fruits\n",
    "for fruit in fruits: \n",
    "    print(fruit)"
   ]
  },
  {
   "cell_type": "code",
   "execution_count": 101,
   "id": "bd1252c9-238b-45ce-8377-8df0e9ed009e",
   "metadata": {},
   "outputs": [
    {
     "name": "stdout",
     "output_type": "stream",
     "text": [
      "Set: {8, 2, 4, 6}\n",
      "Total Elements: 4\n"
     ]
    }
   ],
   "source": [
    "even_numbers = {2,4,6,8}\n",
    "print('Set:',even_numbers)\n",
    "\n",
    "# find number of elements\n",
    "print('Total Elements:', len(even_numbers))"
   ]
  },
  {
   "cell_type": "code",
   "execution_count": 102,
   "id": "ebb9175c-4e14-4fb9-b184-5cf337d9fe59",
   "metadata": {},
   "outputs": [
    {
     "name": "stdout",
     "output_type": "stream",
     "text": [
      "Union using |: {0, 1, 2, 3, 4, 5}\n",
      "Union using union(): {0, 1, 2, 3, 4, 5}\n"
     ]
    }
   ],
   "source": [
    "# first set\n",
    "A = {1, 3, 5}\n",
    "\n",
    "# second set\n",
    "B = {0, 2, 4}\n",
    "\n",
    "# perform union operation using |\n",
    "print('Union using |:', A | B)\n",
    "\n",
    "# perform union operation using union()\n",
    "print('Union using union():', A.union(B)) "
   ]
  },
  {
   "cell_type": "code",
   "execution_count": 103,
   "id": "299006e0-3ae1-477e-9325-693a15ddb415",
   "metadata": {},
   "outputs": [
    {
     "name": "stdout",
     "output_type": "stream",
     "text": [
      "Intersection using &: {1, 3}\n",
      "Intersection using intersection(): {1, 3}\n"
     ]
    }
   ],
   "source": [
    "# first set\n",
    "A = {1, 3, 5}\n",
    "\n",
    "# second set\n",
    "B = {1, 2, 3}\n",
    "\n",
    "# perform intersection operation using &\n",
    "print('Intersection using &:', A & B)\n",
    "\n",
    "# perform intersection operation using intersection()\n",
    "print('Intersection using intersection():', A.intersection(B)) "
   ]
  },
  {
   "cell_type": "code",
   "execution_count": 104,
   "id": "661520e8-1f37-47aa-a061-ad6170fdebc0",
   "metadata": {},
   "outputs": [
    {
     "name": "stdout",
     "output_type": "stream",
     "text": [
      "Difference using &: {3, 5}\n",
      "Difference using difference(): {3, 5}\n"
     ]
    }
   ],
   "source": [
    "# first set\n",
    "A = {2, 3, 5}\n",
    "\n",
    "# second set\n",
    "B = {1, 2, 6}\n",
    "\n",
    "# perform difference operation using &\n",
    "print('Difference using &:', A - B)\n",
    "\n",
    "# perform difference operation using difference()\n",
    "print('Difference using difference():', A.difference(B)) "
   ]
  },
  {
   "cell_type": "code",
   "execution_count": 105,
   "id": "4e360791-f7a3-4bae-84a2-80cbd3bbbc70",
   "metadata": {},
   "outputs": [
    {
     "name": "stdout",
     "output_type": "stream",
     "text": [
      "using ^: {1, 3, 5, 6}\n",
      "using symmetric_difference(): {1, 3, 5, 6}\n"
     ]
    }
   ],
   "source": [
    "# first set\n",
    "A = {2, 3, 5}\n",
    "\n",
    "# second set\n",
    "B = {1, 2, 6}\n",
    "\n",
    "# perform difference operation using &\n",
    "print('using ^:', A ^ B)\n",
    "\n",
    "# using symmetric_difference()\n",
    "print('using symmetric_difference():', A.symmetric_difference(B)) "
   ]
  },
  {
   "cell_type": "markdown",
   "id": "c4ad52be-be8b-42bf-b971-8b0b48d3c158",
   "metadata": {},
   "source": [
    "# Python Dictionary\n"
   ]
  },
  {
   "cell_type": "code",
   "execution_count": 106,
   "id": "0601191e-38d5-42be-a959-a1deaf1b9700",
   "metadata": {},
   "outputs": [
    {
     "name": "stdout",
     "output_type": "stream",
     "text": [
      "{'Germany': 'Berlin', 'Canada': 'Ottawa', 'England': 'London'}\n"
     ]
    }
   ],
   "source": [
    "# creating a dictionary\n",
    "country_capitals = {\n",
    "  \"Germany\": \"Berlin\", \n",
    "  \"Canada\": \"Ottawa\", \n",
    "  \"England\": \"London\"\n",
    "}\n",
    "\n",
    "# printing the dictionary\n",
    "print(country_capitals)"
   ]
  },
  {
   "cell_type": "code",
   "execution_count": 107,
   "id": "d26eb717-09fb-4234-8f2e-3cb1064d8a27",
   "metadata": {},
   "outputs": [
    {
     "name": "stdout",
     "output_type": "stream",
     "text": [
      "Berlin\n",
      "London\n"
     ]
    }
   ],
   "source": [
    "country_capitals = {\n",
    "  \"Germany\": \"Berlin\", \n",
    "  \"Canada\": \"Ottawa\", \n",
    "  \"England\": \"London\"\n",
    "}\n",
    "\n",
    "# access the value of keys\n",
    "print(country_capitals[\"Germany\"])    # Output: Berlin\n",
    "print(country_capitals[\"England\"])    # Output: London"
   ]
  },
  {
   "cell_type": "code",
   "execution_count": 108,
   "id": "3e339f2a-9730-4fd1-969f-13a550b59351",
   "metadata": {},
   "outputs": [
    {
     "name": "stdout",
     "output_type": "stream",
     "text": [
      "{'Germany': 'Berlin', 'Canada': 'Ottawa', 'Italy': 'Rome'}\n"
     ]
    }
   ],
   "source": [
    "country_capitals = {\n",
    "  \"Germany\": \"Berlin\", \n",
    "  \"Canada\": \"Ottawa\", \n",
    "}\n",
    "\n",
    "# add an item with \"Italy\" as key and \"Rome\" as its value\n",
    "country_capitals[\"Italy\"] = \"Rome\"\n",
    "\n",
    "print(country_capitals)"
   ]
  },
  {
   "cell_type": "code",
   "execution_count": 109,
   "id": "f0606dbf-d0c0-4866-88c9-9b677e8b033b",
   "metadata": {},
   "outputs": [
    {
     "name": "stdout",
     "output_type": "stream",
     "text": [
      "{'Canada': 'Ottawa'}\n"
     ]
    }
   ],
   "source": [
    "country_capitals = {\n",
    "  \"Germany\": \"Berlin\", \n",
    "  \"Canada\": \"Ottawa\", \n",
    "}\n",
    "\n",
    "# delete item having \"Germany\" key\n",
    "del country_capitals[\"Germany\"]\n",
    "\n",
    "print(country_capitals)"
   ]
  },
  {
   "cell_type": "code",
   "execution_count": 110,
   "id": "2969eb97-2f11-4e07-8282-6734cced7c12",
   "metadata": {},
   "outputs": [
    {
     "name": "stdout",
     "output_type": "stream",
     "text": [
      "United States\n",
      "Italy\n",
      "\n",
      "Washington D.C.\n",
      "Rome\n"
     ]
    }
   ],
   "source": [
    "country_capitals = {\n",
    "  \"United States\": \"Washington D.C.\", \n",
    "  \"Italy\": \"Rome\" \n",
    "}\n",
    "\n",
    "# print dictionary keys one by one\n",
    "for country in country_capitals:\n",
    "    print(country)\n",
    "\n",
    "print()\n",
    "\n",
    "# print dictionary values one by one\n",
    "for country in country_capitals:\n",
    "    capital = country_capitals[country]\n",
    "    print(capital)"
   ]
  },
  {
   "cell_type": "code",
   "execution_count": 111,
   "id": "ef68dc21-bcde-4a57-b091-460e21b21399",
   "metadata": {},
   "outputs": [
    {
     "name": "stdout",
     "output_type": "stream",
     "text": [
      "2\n",
      "3\n",
      "0\n"
     ]
    }
   ],
   "source": [
    "country_capitals = {\"England\": \"London\", \"Italy\": \"Rome\"}\n",
    "\n",
    "# get dictionary's length\n",
    "print(len(country_capitals))   # Output: 2\n",
    "\n",
    "numbers = {10: \"ten\", 20: \"twenty\", 30: \"thirty\"}\n",
    "\n",
    "# get dictionary's length\n",
    "print(len(numbers))            # Output: 3\n",
    "\n",
    "countries = {}\n",
    "\n",
    "# get dictionary's length\n",
    "print(len(countries))          # Output: 0"
   ]
  },
  {
   "cell_type": "code",
   "execution_count": 112,
   "id": "c3fae1cf-f83e-4d09-b8f1-173ad921d2ad",
   "metadata": {},
   "outputs": [
    {
     "name": "stdout",
     "output_type": "stream",
     "text": [
      "True\n",
      "False\n",
      "True\n"
     ]
    }
   ],
   "source": [
    "file_types = {\n",
    "    \".txt\": \"Text File\",\n",
    "    \".pdf\": \"PDF Document\",\n",
    "    \".jpg\": \"JPEG Image\",\n",
    "}\n",
    "\n",
    "# use of in and not in operators\n",
    "print(\".pdf\" in file_types)       # Output: True\n",
    "print(\".mp3\" in file_types)       # Output: False\n",
    "print(\".mp3\" not in file_types)   # Output: True"
   ]
  },
  {
   "cell_type": "markdown",
   "id": "576d5f34-d4b5-4f34-8f52-20708844a631",
   "metadata": {},
   "source": [
    "# --------------Python Object Oriented Programming-------------------\n"
   ]
  },
  {
   "cell_type": "code",
   "execution_count": 115,
   "id": "28fa86c3-b63e-4a8e-be25-5a220dab49ac",
   "metadata": {},
   "outputs": [
    {
     "name": "stdout",
     "output_type": "stream",
     "text": [
      "Employee ID: 1001\n",
      "Employee ID: 1002\n"
     ]
    }
   ],
   "source": [
    "# define a class\n",
    "class Employee:\n",
    "    # define a property\n",
    "    employee_id = 0\n",
    "\n",
    "# create two objects of the Employee class\n",
    "employee1 = Employee()\n",
    "employee2 = Employee()\n",
    "\n",
    "# access property using employee1\n",
    "employee1.employeeID = 1001\n",
    "print(f\"Employee ID: {employee1.employeeID}\")\n",
    "\n",
    "# access properties using employee2\n",
    "employee2.employeeID = 1002\n",
    "print(f\"Employee ID: {employee2.employeeID}\")\n",
    "#Python Classes and Objects\n"
   ]
  },
  {
   "cell_type": "code",
   "execution_count": 114,
   "id": "9f1ce161-72d8-46cd-b906-1d3230c6ca7f",
   "metadata": {},
   "outputs": [
    {
     "name": "stdout",
     "output_type": "stream",
     "text": [
      "Name: Mountain Bike, Gears: 11 \n"
     ]
    }
   ],
   "source": [
    "# define a class\n",
    "class Bike:\n",
    "    name = \"\"\n",
    "    gear = 0\n",
    "\n",
    "# create object of class\n",
    "bike1 = Bike()\n",
    "\n",
    "# access attributes and assign new values\n",
    "bike1.gear = 11\n",
    "bike1.name = \"Mountain Bike\"\n",
    "\n",
    "print(f\"Name: {bike1.name}, Gears: {bike1.gear} \")"
   ]
  },
  {
   "cell_type": "code",
   "execution_count": 116,
   "id": "fbb848af-21d1-4de1-8015-432e10c3e4af",
   "metadata": {},
   "outputs": [
    {
     "name": "stdout",
     "output_type": "stream",
     "text": [
      "Area of Room = 1309.0\n"
     ]
    }
   ],
   "source": [
    "# create a class\n",
    "class Room:\n",
    "    length = 0.0\n",
    "    breadth = 0.0\n",
    "    \n",
    "    # method to calculate area\n",
    "    def calculate_area(self):\n",
    "        print(\"Area of Room =\", self.length * self.breadth)\n",
    "\n",
    "# create object of Room class\n",
    "study_room = Room()\n",
    "\n",
    "# assign values to all the properties \n",
    "study_room.length = 42.5\n",
    "study_room.breadth = 30.8\n",
    "\n",
    "# access method inside class\n",
    "study_room.calculate_area()"
   ]
  },
  {
   "cell_type": "code",
   "execution_count": 117,
   "id": "82ead747-b55d-4291-b387-3efe2dc4e2db",
   "metadata": {},
   "outputs": [],
   "source": [
    "# Inheritance"
   ]
  },
  {
   "cell_type": "code",
   "execution_count": 118,
   "id": "99ad5803-ac63-409b-b8ae-2c38727a23d9",
   "metadata": {},
   "outputs": [
    {
     "name": "stdout",
     "output_type": "stream",
     "text": [
      "I can eat\n",
      "My name is  Rohu\n"
     ]
    }
   ],
   "source": [
    "class Animal:\n",
    "\n",
    "    # attribute and method of the parent class\n",
    "    name = \"\"\n",
    "    \n",
    "    def eat(self):\n",
    "        print(\"I can eat\")\n",
    "\n",
    "# inherit from Animal\n",
    "class Dog(Animal):\n",
    "\n",
    "    # new method in subclass\n",
    "    def display(self):\n",
    "        # access name attribute of superclass using self\n",
    "        print(\"My name is \", self.name)\n",
    "\n",
    "# create an object of the subclass\n",
    "labrador = Dog()\n",
    "\n",
    "# access superclass attribute and method \n",
    "labrador.name = \"Rohu\"\n",
    "labrador.eat()\n",
    "\n",
    "# call subclass method \n",
    "labrador.display()"
   ]
  },
  {
   "cell_type": "code",
   "execution_count": 119,
   "id": "58ee3582-bfa5-44b8-b211-ba9e2e833e74",
   "metadata": {},
   "outputs": [
    {
     "name": "stdout",
     "output_type": "stream",
     "text": [
      "I like to eat bones\n"
     ]
    }
   ],
   "source": [
    "class Animal:\n",
    "\n",
    "    # attributes and method of the parent class\n",
    "    name = \"\"\n",
    "    \n",
    "    def eat(self):\n",
    "        print(\"I can eat\")\n",
    "\n",
    "# inherit from Animal\n",
    "class Dog(Animal):\n",
    "\n",
    "    # override eat() method\n",
    "    def eat(self):\n",
    "        print(\"I like to eat bones\")\n",
    "\n",
    "# create an object of the subclass\n",
    "labrador = Dog()\n",
    "\n",
    "# call the eat() method on the labrador object\n",
    "labrador.eat()"
   ]
  },
  {
   "cell_type": "code",
   "execution_count": 120,
   "id": "0784693a-f155-44aa-a176-ab7607ca6967",
   "metadata": {},
   "outputs": [
    {
     "name": "stdout",
     "output_type": "stream",
     "text": [
      "I can eat\n",
      "I like to eat bones\n"
     ]
    }
   ],
   "source": [
    "class Animal:\n",
    "\n",
    "    name = \"\"\n",
    "    \n",
    "    def eat(self):\n",
    "        print(\"I can eat\")\n",
    "\n",
    "# inherit from Animal\n",
    "class Dog(Animal):\n",
    "    \n",
    "    # override eat() method\n",
    "    def eat(self):\n",
    "        \n",
    "        # call the eat() method of the superclass using super()\n",
    "        super().eat()\n",
    "        \n",
    "        print(\"I like to eat bones\")\n",
    "\n",
    "# create an object of the subclass\n",
    "labrador = Dog()\n",
    "\n",
    "labrador.eat()"
   ]
  },
  {
   "cell_type": "code",
   "execution_count": 121,
   "id": "233fe19b-d357-43cd-8d6d-ecf2c9c910d6",
   "metadata": {},
   "outputs": [],
   "source": [
    "# Python Multiple Inheritance\n"
   ]
  },
  {
   "cell_type": "code",
   "execution_count": 122,
   "id": "62db75cf-64f8-486f-95a9-8e3ff27b815e",
   "metadata": {},
   "outputs": [
    {
     "name": "stdout",
     "output_type": "stream",
     "text": [
      "Mammals can give direct birth.\n",
      "Winged animals can flap.\n"
     ]
    }
   ],
   "source": [
    "class Mammal:\n",
    "    def mammal_info(self):\n",
    "        print(\"Mammals can give direct birth.\")\n",
    "\n",
    "class WingedAnimal:\n",
    "    def winged_animal_info(self):\n",
    "        print(\"Winged animals can flap.\")\n",
    "\n",
    "class Bat(Mammal, WingedAnimal):\n",
    "    pass\n",
    "\n",
    "# create an object of Bat class\n",
    "b1 = Bat()\n",
    "\n",
    "b1.mammal_info()\n",
    "b1.winged_animal_info()"
   ]
  },
  {
   "cell_type": "code",
   "execution_count": 123,
   "id": "7ff2a559-00c3-468e-84be-2e8f2bc9d0c9",
   "metadata": {},
   "outputs": [
    {
     "name": "stdout",
     "output_type": "stream",
     "text": [
      "Super Class method called\n",
      "Derived class 1 method called\n",
      "Derived class 2 method called\n"
     ]
    }
   ],
   "source": [
    "class SuperClass:\n",
    "\n",
    "    def super_method(self):\n",
    "        print(\"Super Class method called\")\n",
    "\n",
    "# define class that derive from SuperClass\n",
    "class DerivedClass1(SuperClass):\n",
    "    def derived1_method(self):\n",
    "        print(\"Derived class 1 method called\")\n",
    "\n",
    "# define class that derive from DerivedClass1\n",
    "class DerivedClass2(DerivedClass1):\n",
    "\n",
    "    def derived2_method(self):\n",
    "        print(\"Derived class 2 method called\")\n",
    "\n",
    "# create an object of DerivedClass2\n",
    "d2 = DerivedClass2()\n",
    "\n",
    "d2.super_method()  # Output: \"Super Class method called\"\n",
    "\n",
    "d2.derived1_method()  # Output: \"Derived class 1 method called\"\n",
    "\n",
    "d2.derived2_method()  # Output: \"Derived class 2 method called\""
   ]
  },
  {
   "cell_type": "code",
   "execution_count": 124,
   "id": "0d3f961c-69b4-4e8a-9d5b-94b4c88c3b7b",
   "metadata": {},
   "outputs": [
    {
     "name": "stdout",
     "output_type": "stream",
     "text": [
      "Super Class 1 method called\n"
     ]
    }
   ],
   "source": [
    "class SuperClass1:\n",
    "    def info(self):\n",
    "        print(\"Super Class 1 method called\")\n",
    "\n",
    "class SuperClass2:\n",
    "    def info(self):\n",
    "        print(\"Super Class 2 method called\")\n",
    "\n",
    "class Derived(SuperClass1, SuperClass2):\n",
    "    pass\n",
    "\n",
    "d1 = Derived()\n",
    "d1.info()  \n",
    "\n",
    "# Output: \"Super Class 1 method called\""
   ]
  },
  {
   "cell_type": "code",
   "execution_count": 125,
   "id": "1ba100cc-934a-4f24-b5de-4ee67db33600",
   "metadata": {},
   "outputs": [],
   "source": [
    "# operator overloading"
   ]
  },
  {
   "cell_type": "code",
   "execution_count": 126,
   "id": "48ee3182-302a-4874-9ac1-0eac04272ae3",
   "metadata": {},
   "outputs": [
    {
     "name": "stdout",
     "output_type": "stream",
     "text": [
      "(3,5)\n"
     ]
    }
   ],
   "source": [
    "class Point:\n",
    "    def __init__(self, x=0, y=0):\n",
    "        self.x = x\n",
    "        self.y = y\n",
    "\n",
    "    def __str__(self):\n",
    "        return \"({0},{1})\".format(self.x, self.y)\n",
    "\n",
    "    def __add__(self, other):\n",
    "        x = self.x + other.x\n",
    "        y = self.y + other.y\n",
    "        return Point(x, y)\n",
    "\n",
    "\n",
    "p1 = Point(1, 2)\n",
    "p2 = Point(2, 3)\n",
    "\n",
    "print(p1+p2)\n",
    "\n",
    "# Output: (3,5)"
   ]
  },
  {
   "cell_type": "code",
   "execution_count": 127,
   "id": "4ddf5fcc-ce70-489a-82fc-1a4d0a6a92d5",
   "metadata": {},
   "outputs": [
    {
     "name": "stdout",
     "output_type": "stream",
     "text": [
      "True\n",
      "False\n"
     ]
    }
   ],
   "source": [
    "class Person:\n",
    "    def __init__(self, name, age):\n",
    "        self.name = name\n",
    "        self.age = age\n",
    "\n",
    "    # overload < operator\n",
    "    def __lt__(self, other):\n",
    "        return self.age < other.age\n",
    "\n",
    "p1 = Person(\"Alice\", 20)\n",
    "p2 = Person(\"Bob\", 30)\n",
    "\n",
    "print(p1 < p2)  # prints True\n",
    "print(p2 < p1)  # prints False"
   ]
  },
  {
   "cell_type": "code",
   "execution_count": null,
   "id": "a04d85d0-34c8-4e9e-ae5d-c6090ffaf703",
   "metadata": {},
   "outputs": [],
   "source": []
  }
 ],
 "metadata": {
  "kernelspec": {
   "display_name": "Python 3 (ipykernel)",
   "language": "python",
   "name": "python3"
  },
  "language_info": {
   "codemirror_mode": {
    "name": "ipython",
    "version": 3
   },
   "file_extension": ".py",
   "mimetype": "text/x-python",
   "name": "python",
   "nbconvert_exporter": "python",
   "pygments_lexer": "ipython3",
   "version": "3.11.7"
  },
  "widgets": {
   "application/vnd.jupyter.widget-state+json": {
    "state": {},
    "version_major": 2,
    "version_minor": 0
   }
  }
 },
 "nbformat": 4,
 "nbformat_minor": 5
}
